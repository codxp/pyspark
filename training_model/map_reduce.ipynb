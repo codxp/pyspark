{
 "cells": [
  {
   "cell_type": "code",
   "execution_count": 1,
   "metadata": {},
   "outputs": [],
   "source": [
    "liste = list(range(100000))"
   ]
  },
  {
   "cell_type": "code",
   "execution_count": 2,
   "metadata": {},
   "outputs": [
    {
     "name": "stdout",
     "output_type": "stream",
     "text": [
      "Temps de la fonction standard: 2.8191661669989116 secondes\n",
      "Temps de la fonction lambda: 2.7650734999915585 secondes\n",
      "La fonction lambda est plus rapide.\n"
     ]
    }
   ],
   "source": [
    "import timeit\n",
    "\n",
    "# Fonction standard de multiplication\n",
    "def multiply(x):\n",
    "    return x * 2\n",
    "\n",
    "# Lambda équivalente pour la multiplication\n",
    "lambda_multiply = lambda x: x * 2\n",
    "\n",
    "# Fonction pour tester la rapidité\n",
    "def test_speed():\n",
    "    # Test de la fonction standard\n",
    "    time_standard = timeit.timeit(\"multiply(10)\", globals=globals(), number=100000000)\n",
    "    \n",
    "    # Test de la lambda\n",
    "    time_lambda = timeit.timeit(\"lambda_multiply(10)\", globals=globals(), number=100000000)\n",
    "    \n",
    "    print(f\"Temps de la fonction standard: {time_standard} secondes\")\n",
    "    print(f\"Temps de la fonction lambda: {time_lambda} secondes\")\n",
    "\n",
    "    # Comparaison des performances\n",
    "    if time_lambda < time_standard:\n",
    "        print(\"La fonction lambda est plus rapide.\")\n",
    "    else:\n",
    "        print(\"La fonction standard est plus rapide.\")\n",
    "\n",
    "# Exécuter la comparaison\n",
    "test_speed()\n"
   ]
  },
  {
   "cell_type": "code",
   "execution_count": 3,
   "metadata": {},
   "outputs": [
    {
     "name": "stdout",
     "output_type": "stream",
     "text": [
      "Temps de la fonction standard seule: 0.34819479199359193 secondes\n",
      "Temps de la lambda seule: 0.31621149997226894 secondes\n",
      "Temps de map avec la fonction standard: 0.39164791704388335 secondes\n",
      "Temps de map avec la lambda: 0.38978179200785235 secondes\n"
     ]
    }
   ],
   "source": [
    "import timeit\n",
    "\n",
    "# Fonction standard de multiplication\n",
    "def multiply(x):\n",
    "    return x * 2\n",
    "\n",
    "# Lambda équivalente pour la multiplication\n",
    "lambda_multiply = lambda x: x * 2\n",
    "\n",
    "# Liste de valeurs pour le test\n",
    "values = list(range(1000000))\n",
    "\n",
    "# Fonction pour tester la rapidité\n",
    "def test_speed():\n",
    "    # Test de la fonction standard seule\n",
    "    time_standard = timeit.timeit(\"for x in values: multiply(x)\", globals=globals(), number=10)\n",
    "\n",
    "    # Test de la lambda seule\n",
    "    time_lambda = timeit.timeit(\"for x in values: lambda_multiply(x)\", globals=globals(), number=10)\n",
    "\n",
    "    # Test de map avec la fonction standard\n",
    "    time_map_standard = timeit.timeit(\"list(map(multiply, values))\", globals=globals(), number=10)\n",
    "\n",
    "    # Test de map avec la lambda\n",
    "    time_map_lambda = timeit.timeit(\"list(map(lambda_multiply, values))\", globals=globals(), number=10)\n",
    "\n",
    "    # Affichage des résultats\n",
    "    print(f\"Temps de la fonction standard seule: {time_standard} secondes\")\n",
    "    print(f\"Temps de la lambda seule: {time_lambda} secondes\")\n",
    "    print(f\"Temps de map avec la fonction standard: {time_map_standard} secondes\")\n",
    "    print(f\"Temps de map avec la lambda: {time_map_lambda} secondes\")\n",
    "\n",
    "# Exécuter la comparaison\n",
    "test_speed()\n"
   ]
  },
  {
   "cell_type": "code",
   "execution_count": null,
   "metadata": {},
   "outputs": [],
   "source": []
  }
 ],
 "metadata": {
  "kernelspec": {
   "display_name": "env",
   "language": "python",
   "name": "python3"
  },
  "language_info": {
   "codemirror_mode": {
    "name": "ipython",
    "version": 3
   },
   "file_extension": ".py",
   "mimetype": "text/x-python",
   "name": "python",
   "nbconvert_exporter": "python",
   "pygments_lexer": "ipython3",
   "version": "3.11.7"
  }
 },
 "nbformat": 4,
 "nbformat_minor": 2
}
